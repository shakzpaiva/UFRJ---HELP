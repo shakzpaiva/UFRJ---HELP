{
 "cells": [
  {
   "cell_type": "markdown",
   "metadata": {},
   "source": [
    "# Introdução ao Processamento de Dados (IPD) Segunda Lista de Exercícios – Algoritmos"
   ]
  },
  {
   "cell_type": "code",
   "execution_count": 55,
   "metadata": {},
   "outputs": [],
   "source": [
    "import numpy as np"
   ]
  },
  {
   "cell_type": "code",
   "execution_count": null,
   "metadata": {},
   "outputs": [],
   "source": []
  },
  {
   "cell_type": "markdown",
   "metadata": {},
   "source": [
    "1. Faça um programa para ler 50 valores de temperaturas em graus Celsius.\n",
    "Transformar essas temperaturas em Farenheit e imprimir a media das temperaturas\n",
    "em Celsius e Farenheit e quantas temperaturas ficaram acima da media em Farenheit."
   ]
  },
  {
   "cell_type": "code",
   "execution_count": 53,
   "metadata": {},
   "outputs": [],
   "source": [
    "celsius = [i for i in range(1,51)]"
   ]
  },
  {
   "cell_type": "code",
   "execution_count": 54,
   "metadata": {},
   "outputs": [],
   "source": [
    "def transforma_para_Farenheit(lista):\n",
    "    media_farenheit = 0\n",
    "    media_celsius = 0\n",
    "    farenheit_maior_que_media = []\n",
    "    \n",
    "    #cria_lista celsius\n",
    "    temps_celsius = lista\n",
    "    temps_fahrenheit = []\n",
    "\n",
    "    \n",
    "    #cria lista de farenheits\n",
    "    for temperatura in lista:\n",
    "        temps_fahrenheit.append(((temperatura * 9 / 5) + 32))\n",
    "        \n",
    "    #Calcula media das temperaturas em farenheit\n",
    "    for temperatura in temps_fahrenheit:\n",
    "        media_farenheit += temperatura\n",
    "    \n",
    "    media_farenheit = media_farenheit/len(temps_fahrenheit)\n",
    "    \n",
    "    \n",
    "    #calcula media das temperaturas em celsius\n",
    "    for temperatura in temps_celsius:\n",
    "        media_celsius += temperatura\n",
    "    \n",
    "    media_celsius = media_celsius / len(temps_celsius)\n",
    "    \n",
    "    \n",
    "    #diz a lista das temperaturas que estao acima da media farenheit\n",
    "    for temperatura in temps_fahrenheit:\n",
    "        if temperatura > media_farenheit:\n",
    "            farenheit_maior_que_media.append(temperatura)\n",
    "     \n",
    "    \n",
    "    #printa todo mundo\n",
    "    print (media_farenheit, media_celsius, farenheit_maior_que_media)\n",
    "            \n",
    "        "
   ]
  },
  {
   "cell_type": "code",
   "execution_count": null,
   "metadata": {},
   "outputs": [],
   "source": [
    "transforma_para_Farenheit([30,31,32])"
   ]
  },
  {
   "cell_type": "code",
   "execution_count": null,
   "metadata": {},
   "outputs": [],
   "source": []
  },
  {
   "cell_type": "markdown",
   "metadata": {},
   "source": [
    "2. Leia um vetor de 40 posições e conte quantos elementos pares se encontram no vetor."
   ]
  },
  {
   "cell_type": "code",
   "execution_count": 56,
   "metadata": {},
   "outputs": [
    {
     "name": "stdout",
     "output_type": "stream",
     "text": [
      "[ 1  2  3  4  5  6  7  8  9 10 11 12 13 14 15 16 17 18 19 20 21 22 23 24\n",
      " 25 26 27 28 29 30 31 32 33 34 35 36 37 38 39 40]\n"
     ]
    }
   ],
   "source": [
    "vetor = np.arange(1,41)\n",
    "print(vetor)"
   ]
  },
  {
   "cell_type": "code",
   "execution_count": 57,
   "metadata": {},
   "outputs": [],
   "source": [
    "def check(x):\n",
    "    pares = 0 \n",
    "    for numero in vetor:\n",
    "        if numero % 2 == 0:\n",
    "            pares += 1\n",
    "            \n",
    "    return pares"
   ]
  },
  {
   "cell_type": "code",
   "execution_count": 58,
   "metadata": {},
   "outputs": [
    {
     "data": {
      "text/plain": [
       "20"
      ]
     },
     "execution_count": 58,
     "metadata": {},
     "output_type": "execute_result"
    }
   ],
   "source": [
    "check(vetor)"
   ]
  },
  {
   "cell_type": "markdown",
   "metadata": {},
   "source": [
    "3. Leia uma frase e imprima o total de vogais, o total de brancos e o total do resto."
   ]
  },
  {
   "cell_type": "code",
   "execution_count": null,
   "metadata": {},
   "outputs": [],
   "source": [
    "def conta_caracteres(frase):\n",
    "    vogais = 0\n",
    "    brancos = 0\n",
    "    resto = 0\n",
    "    \n",
    "    for caractere in frase:\n",
    "        if caractere in ['a','e','i','o','u','A','E','I','O','U']:\n",
    "            vogais += 1\n",
    "        elif caractere == ' ':\n",
    "            brancos += 1\n",
    "        else:\n",
    "            resto += 1\n",
    "            \n",
    "    print('o total de vogais é ' + str(vogais) + ', o total de brancos é ' + str(brancos) + ', o numero de restantes e '\n",
    "          + str(resto))"
   ]
  },
  {
   "cell_type": "code",
   "execution_count": null,
   "metadata": {},
   "outputs": [],
   "source": [
    "conta_caracteres('abc Abc')"
   ]
  },
  {
   "cell_type": "markdown",
   "metadata": {},
   "source": [
    "4. Ler um vetor de números inteiros de 30 posições. Depois, ler um número inteiro X, imprimir quantas vezes o número X aparece no vetor"
   ]
  },
  {
   "cell_type": "code",
   "execution_count": null,
   "metadata": {},
   "outputs": [],
   "source": [
    "def qtd_que_aparece(vetor, numero):\n",
    "    contador = 0\n",
    "    for num in vetor:\n",
    "        if num == numero:\n",
    "            contador += 1\n",
    "    print('o numero aparece ' + str(contador)+ ' vezes.')"
   ]
  },
  {
   "cell_type": "code",
   "execution_count": null,
   "metadata": {},
   "outputs": [],
   "source": [
    "qtd_que_aparece([1,2,3,4,5,6,6,6,6],6)"
   ]
  },
  {
   "cell_type": "markdown",
   "metadata": {},
   "source": [
    "5. Leia um vetor de 16 posições e troque as 8 primeiras posições pelas 8 últimas posições. Imprima o vetor original e o vetor trocado"
   ]
  },
  {
   "cell_type": "code",
   "execution_count": null,
   "metadata": {},
   "outputs": [],
   "source": [
    "def normal_e_trocado(vetor):\n",
    "    novo_vetor = vetor[8:] + vetor[0:8]\n",
    "    \n",
    "    print (vetor, novo_vetor)"
   ]
  },
  {
   "cell_type": "code",
   "execution_count": null,
   "metadata": {},
   "outputs": [],
   "source": [
    "normal_e_trocado([1,2,3,4,5,6,7,8,9,10,11,12,13,14,15,16])"
   ]
  },
  {
   "cell_type": "markdown",
   "metadata": {},
   "source": [
    "6. Um palíndromo é uma cadeia que pode ser lida de frente para trás e de trás para frente. Ex: ‘SOMOS’ ‘1234321’. Implemente a função palindromo(palavra). O parâmetro palavra é uma string. A função deverá retornar True se for um palíndromo e False caso contrário."
   ]
  },
  {
   "cell_type": "code",
   "execution_count": null,
   "metadata": {},
   "outputs": [],
   "source": [
    "def palindromo(palavra):\n",
    "    if palavra == palavra[::-1]:\n",
    "        return True\n",
    "    else:\n",
    "        return False"
   ]
  },
  {
   "cell_type": "code",
   "execution_count": null,
   "metadata": {},
   "outputs": [],
   "source": [
    "palindromo('SOMOS')"
   ]
  },
  {
   "cell_type": "code",
   "execution_count": null,
   "metadata": {},
   "outputs": [],
   "source": [
    "palindromo('SOME')"
   ]
  },
  {
   "cell_type": "markdown",
   "metadata": {},
   "source": [
    "7. Um anagrama (do grego ana = \"voltar\" ou \"repetir\" + graphein = \"escrever\") é uma espécie de jogo de palavras, resultando do rearranjo das letras de uma palavra ou frase para produzir outras palavras, utilizando todas as letras originais exatamente uma vez. Um exemplo conhecido é o nome da personagem Iracema, claro anagrama de América, no romance de José de Alencar. Implemente a função anagrama(frase1,  IPD – Lista de Exercícios – Algoritmos 2 frase2). Os parâmetros frase1 e frase2 são string. A função deverá retornar True se forem anagramas e False caso contrário. Despreze acentuação (por exemplo: ã = a e ç = c) e os espaços não devem ser computados para efeitos do anagrama."
   ]
  },
  {
   "cell_type": "code",
   "execution_count": 51,
   "metadata": {},
   "outputs": [],
   "source": [
    "def anagrama(frase1,frase2):\n",
    "    f1 = []\n",
    "    f2 = []\n",
    "    \n",
    "    for letra1 in frase1:\n",
    "        if letra1 != ' ':\n",
    "            f1.append(letra1)\n",
    "        \n",
    "    for letra2 in frase2:\n",
    "        if letra2 != ' ':\n",
    "            f2.append(letra2)    \n",
    "    \n",
    "    f1 = sorted(f1)\n",
    "    f2 = sorted(f2)\n",
    "\n",
    "    f1 = ''.join(f1)\n",
    "    f2 = ''.join(f2)\n",
    "\n",
    "    return f1 == f2"
   ]
  },
  {
   "cell_type": "code",
   "execution_count": 52,
   "metadata": {},
   "outputs": [
    {
     "data": {
      "text/plain": [
       "True"
      ]
     },
     "execution_count": 52,
     "metadata": {},
     "output_type": "execute_result"
    }
   ],
   "source": [
    "anagrama('so na buceta','ate cubanos')"
   ]
  },
  {
   "cell_type": "markdown",
   "metadata": {},
   "source": [
    "8. Considere um vetor de trajetórias de 9 elementos onde cada elemento possui o valor do próximo elemento a ser lido.\n",
    "\n",
    "### Índice 0 1 2 3 4 5 6 7 8\n",
    "### Valor  1 8 5 6 7 3 0 4 2"
   ]
  },
  {
   "cell_type": "code",
   "execution_count": 16,
   "metadata": {},
   "outputs": [],
   "source": [
    "def trajetoria(vetor_trajetoria):\n",
    "    for num in vetor_trajetoria:\n",
    "        print (vetor_trajetoria[num])"
   ]
  },
  {
   "cell_type": "code",
   "execution_count": 17,
   "metadata": {},
   "outputs": [
    {
     "name": "stdout",
     "output_type": "stream",
     "text": [
      "8\n",
      "2\n",
      "3\n",
      "0\n",
      "4\n",
      "6\n",
      "1\n",
      "7\n",
      "5\n"
     ]
    }
   ],
   "source": [
    "trajetoria([1,8,5,6,7,3,0,4,2])"
   ]
  },
  {
   "cell_type": "markdown",
   "metadata": {},
   "source": [
    "9. Crie uma matriz 5x5 com 1 na diagonal principal e 0 nas outras posições. Imprima a matriz no formato tradicional de linhas e colunas"
   ]
  },
  {
   "cell_type": "code",
   "execution_count": 23,
   "metadata": {},
   "outputs": [],
   "source": [
    "def cria_matriz():\n",
    "    matriz = []\n",
    "    for i in range(0,5):\n",
    "        matriz.append(0)\n",
    "        matriz[i] = []\n",
    "        \n",
    "        for j in range(0,5):\n",
    "            if i == j:\n",
    "                matriz[i].append(1)\n",
    "            else:\n",
    "                matriz[i].append(0)\n",
    "    \n",
    "    for linha in matriz:\n",
    "        print(linha)"
   ]
  },
  {
   "cell_type": "code",
   "execution_count": 24,
   "metadata": {},
   "outputs": [
    {
     "name": "stdout",
     "output_type": "stream",
     "text": [
      "[1, 0, 0, 0, 0]\n",
      "[0, 1, 0, 0, 0]\n",
      "[0, 0, 1, 0, 0]\n",
      "[0, 0, 0, 1, 0]\n",
      "[0, 0, 0, 0, 1]\n"
     ]
    }
   ],
   "source": [
    "cria_matriz()"
   ]
  },
  {
   "cell_type": "code",
   "execution_count": null,
   "metadata": {},
   "outputs": [],
   "source": []
  },
  {
   "cell_type": "code",
   "execution_count": null,
   "metadata": {},
   "outputs": [],
   "source": []
  },
  {
   "cell_type": "markdown",
   "metadata": {},
   "source": [
    "11. Crie a função mat_maior_10(matriz). A função deve receber uma matriz genérica,de qualquer tamanho (não necessariamente quadrada) e retornar a quantidade de elementos da matriz maiores que dez"
   ]
  },
  {
   "cell_type": "code",
   "execution_count": 28,
   "metadata": {},
   "outputs": [],
   "source": [
    "def mat_maior_10(matriz):\n",
    "    contador = 0\n",
    "    for linha_inteira in matriz:\n",
    "        for numero in linha_inteira:\n",
    "            if numero > 10:\n",
    "                contador += 1\n",
    "    return contador"
   ]
  },
  {
   "cell_type": "code",
   "execution_count": 29,
   "metadata": {},
   "outputs": [
    {
     "data": {
      "text/plain": [
       "3"
      ]
     },
     "execution_count": 29,
     "metadata": {},
     "output_type": "execute_result"
    }
   ],
   "source": [
    "mat_maior_10([[1,2,13],[4,20,5],[6,7,30]])"
   ]
  },
  {
   "cell_type": "code",
   "execution_count": null,
   "metadata": {},
   "outputs": [],
   "source": []
  },
  {
   "cell_type": "code",
   "execution_count": null,
   "metadata": {},
   "outputs": [],
   "source": []
  }
 ],
 "metadata": {
  "kernelspec": {
   "display_name": "Python 3",
   "language": "python",
   "name": "python3"
  },
  "language_info": {
   "codemirror_mode": {
    "name": "ipython",
    "version": 3
   },
   "file_extension": ".py",
   "mimetype": "text/x-python",
   "name": "python",
   "nbconvert_exporter": "python",
   "pygments_lexer": "ipython3",
   "version": "3.7.0"
  }
 },
 "nbformat": 4,
 "nbformat_minor": 2
}
