{
 "cells": [
  {
   "cell_type": "markdown",
   "metadata": {},
   "source": [
    "1. Faça um programa para ler 50 valores de temperaturas em graus Celsius. Transformar essas temperaturas em Farenheit e imprimir a media das temperaturas em Celsius e Farenheit e quantas temperaturas ficaram acima da media em Farenheit."
   ]
  },
  {
   "cell_type": "code",
   "execution_count": null,
   "metadata": {},
   "outputs": [],
   "source": []
  },
  {
   "cell_type": "code",
   "execution_count": null,
   "metadata": {},
   "outputs": [],
   "source": [
    "#temperaturas em farenheit\n",
    "#media das temperaturas em celsius\n",
    "#media das temperaturas em farenheit\n",
    "#quantas temperaturas farenheit ficaram acima da media\n",
    "\n",
    "celsius = [i for i in range(1,51)]\n",
    "\n"
   ]
  },
  {
   "cell_type": "code",
   "execution_count": null,
   "metadata": {},
   "outputs": [],
   "source": [
    "# ** ---> potencia\n",
    "# * ----> multiplicação\n",
    "# / ----> dividir\n",
    "# +, - -----> somar e subtrair"
   ]
  },
  {
   "cell_type": "code",
   "execution_count": null,
   "metadata": {},
   "outputs": [],
   "source": [
    "\n",
    "\n",
    "        \n",
    "    "
   ]
  },
  {
   "cell_type": "code",
   "execution_count": null,
   "metadata": {},
   "outputs": [],
   "source": [
    "transforma_em_farenheit([30,31,32])"
   ]
  },
  {
   "cell_type": "code",
   "execution_count": null,
   "metadata": {},
   "outputs": [],
   "source": [
    "def media_celsius(lista):\n",
    "    soma = 0\n",
    "    \n",
    "    for valor in lista:\n",
    "        soma = soma + valor\n",
    "        \n",
    "    media_celsius = soma / len(lista)    #len == lenght()\n",
    "    \n",
    "    return media_celsius                       #return, print ---> return usario/funcao //// print ---> usuario"
   ]
  },
  {
   "cell_type": "code",
   "execution_count": null,
   "metadata": {},
   "outputs": [],
   "source": [
    "media_celsius([30,31,32])"
   ]
  },
  {
   "cell_type": "code",
   "execution_count": null,
   "metadata": {},
   "outputs": [],
   "source": []
  },
  {
   "cell_type": "code",
   "execution_count": 5,
   "metadata": {},
   "outputs": [],
   "source": [
    "def transforma_em_farenheit(lista): #pintou eh built-in\n",
    "    lista_farenheit = [] #variavel --> guarda valores\n",
    "    lista_celsius = lista\n",
    "    \n",
    "    for valor in lista_celsius:\n",
    "        lista_farenheit.append((((valor * 9) / 5) + 32))  # metodo para adicionar nessa lista\n",
    "        \n",
    "    \n",
    "    #imprimir e mostrar o resultado pro usuario    \n",
    "    #print(lista_farenheit, lista_celsius)\n",
    "    \n",
    "    #return informa pro usuario e pra outras funcoes\n",
    "    return lista_farenheit"
   ]
  },
  {
   "cell_type": "code",
   "execution_count": 6,
   "metadata": {},
   "outputs": [
    {
     "data": {
      "text/plain": [
       "[86.0, 87.8, 89.6]"
      ]
     },
     "execution_count": 6,
     "metadata": {},
     "output_type": "execute_result"
    }
   ],
   "source": [
    "transforma_em_farenheit([30,31,32])"
   ]
  },
  {
   "cell_type": "code",
   "execution_count": 7,
   "metadata": {},
   "outputs": [],
   "source": [
    "def media_farenheit(lista):\n",
    "    \n",
    "    farenheit = transforma_em_farenheit(lista)\n",
    "    soma = 0\n",
    "    \n",
    "    for valor in farenheit:\n",
    "        soma = soma + valor\n",
    "    \n",
    "    media_farenheit = soma / len(farenheit)\n",
    "    \n",
    "    return media_farenheit"
   ]
  },
  {
   "cell_type": "code",
   "execution_count": 8,
   "metadata": {},
   "outputs": [
    {
     "data": {
      "text/plain": [
       "91.39999999999999"
      ]
     },
     "execution_count": 8,
     "metadata": {},
     "output_type": "execute_result"
    }
   ],
   "source": [
    "media_farenheit([30,31,32,33,34,35,36])"
   ]
  },
  {
   "cell_type": "code",
   "execution_count": 9,
   "metadata": {},
   "outputs": [],
   "source": [
    "def acima_da_media_farenheit(lista):   \n",
    "    media = media_farenheit(lista)\n",
    "    lista_farenheint = transforma_em_farenheit(lista)\n",
    "    lista_acima_da_media = []\n",
    "    \n",
    "    \n",
    "    for valor in lista_farenheint:  #IDENTACAO #LOOP\n",
    "        if valor > media:\n",
    "            lista_acima_da_media.append(valor)\n",
    "            print(lista_acima_da_media)\n",
    "            print('ta acima da media')\n"
   ]
  },
  {
   "cell_type": "code",
   "execution_count": 10,
   "metadata": {},
   "outputs": [
    {
     "name": "stdout",
     "output_type": "stream",
     "text": [
      "[91.4]\n",
      "ta acima da media\n",
      "[91.4, 93.2]\n",
      "ta acima da media\n",
      "[91.4, 93.2, 95.0]\n",
      "ta acima da media\n",
      "[91.4, 93.2, 95.0, 96.8]\n",
      "ta acima da media\n"
     ]
    }
   ],
   "source": [
    "acima_da_media_farenheit([30.0,31.0,32.0,33.0,34.0,35.0,36.0])"
   ]
  },
  {
   "cell_type": "code",
   "execution_count": null,
   "metadata": {},
   "outputs": [],
   "source": [
    "a = 3\n",
    "b = 4\n",
    "\n",
    "if a > b:\n",
    "    print('e maior')"
   ]
  },
  {
   "cell_type": "code",
   "execution_count": null,
   "metadata": {},
   "outputs": [],
   "source": []
  },
  {
   "cell_type": "code",
   "execution_count": 12,
   "metadata": {},
   "outputs": [
    {
     "name": "stdout",
     "output_type": "stream",
     "text": [
      "[ 1  2  3  4  5  6  7  8  9 10 11 12 13 14 15 16 17 18 19 20 21 22 23 24\n",
      " 25 26 27 28 29 30 31 32 33 34 35 36 37 38 39 40]\n"
     ]
    }
   ],
   "source": []
  },
  {
   "cell_type": "code",
   "execution_count": 19,
   "metadata": {},
   "outputs": [],
   "source": [
    "#2. Leia um vetor de 40 posições e conte quantos elementos pares se encontram no vetor.\n",
    "# > , < maior ou menor\n",
    "# <= , <=  maior-igual ou menor-igual\n",
    "# != diferente\n",
    "# == igual\n",
    "# = ----> atribuição ----> Guardar valores   \n",
    "\n",
    "\n",
    "\n",
    "def acha_par(vetor):\n",
    "    contador = 0\n",
    "    \n",
    "    for valor in vetor:\n",
    "        if valor % 2 == 0:   #\n",
    "            contador += 1\n",
    "            \n",
    "    return contador\n",
    "    \n",
    "    # se for par:\n",
    "        "
   ]
  },
  {
   "cell_type": "code",
   "execution_count": 20,
   "metadata": {},
   "outputs": [
    {
     "name": "stdout",
     "output_type": "stream",
     "text": [
      "[ 1  2  3  4  5  6  7  8  9 10 11 12 13 14 15 16 17 18 19 20 21 22 23 24\n",
      " 25 26 27 28 29 30 31 32 33 34 35 36 37 38 39 40]\n"
     ]
    }
   ],
   "source": [
    "import numpy as np\n",
    "vetor = np.arange(1,41)\n",
    "print(vetor)"
   ]
  },
  {
   "cell_type": "code",
   "execution_count": 21,
   "metadata": {},
   "outputs": [
    {
     "data": {
      "text/plain": [
       "20"
      ]
     },
     "execution_count": 21,
     "metadata": {},
     "output_type": "execute_result"
    }
   ],
   "source": [
    "acha_par(vetor)"
   ]
  },
  {
   "cell_type": "markdown",
   "metadata": {},
   "source": [
    "3. Leia uma frase e imprima o total de vogais, o total de brancos e o total do resto."
   ]
  },
  {
   "cell_type": "code",
   "execution_count": 46,
   "metadata": {},
   "outputs": [],
   "source": [
    "def checagem_de_frase(frase): #frase vai ser tipo string \n",
    "    vogais = 0 #inteiro ---> #string\n",
    "    brancos = 0\n",
    "    resto = 0\n",
    "    \n",
    "    for caractere in frase:\n",
    "\n",
    "        if caractere in ['a','e','i','o','u','A','E','I','O','U']: #letras maiusculas e minusculas sao diferentes\n",
    "            vogais += 1\n",
    "        \n",
    "        elif caractere == ' ':\n",
    "            brancos += 1\n",
    "            \n",
    "        else:\n",
    "            resto += 1\n",
    "    \n",
    "    #o print nao mistura numeros e letras    # print( asdasd )\n",
    "    print ('o numero de vogais eh ' + str(vogais) + ' o numero de brancos eh ' + str(brancos) + ' o resto eh ' + str(resto))"
   ]
  },
  {
   "cell_type": "code",
   "execution_count": 47,
   "metadata": {},
   "outputs": [
    {
     "name": "stdout",
     "output_type": "stream",
     "text": [
      "o numero de vogais eh 3 o numero de brancos eh 2 o resto eh 8\n"
     ]
    }
   ],
   "source": [
    "checagem_de_frase('Abc cdE def!!')"
   ]
  },
  {
   "cell_type": "markdown",
   "metadata": {},
   "source": [
    "4. Ler um vetor de números inteiros de 30 posições. Depois, ler um número inteiro X, imprimir quantas vezes o número X aparece no vetor\n"
   ]
  },
  {
   "cell_type": "code",
   "execution_count": 48,
   "metadata": {},
   "outputs": [],
   "source": [
    "def quantas_aparece(vetor,numero_para_checar):\n",
    "    contador = 0\n",
    "    \n",
    "    for num in vetor:\n",
    "        if num == numero_para_checar:\n",
    "            contador += 1\n",
    "    \n",
    "    \n",
    "    print(contador)"
   ]
  },
  {
   "cell_type": "code",
   "execution_count": 51,
   "metadata": {},
   "outputs": [],
   "source": [
    "a = [2,2,2,2,2,2,2,2,3,3,3,3,3,3,3,4,4,4,4,4,4,4,4,5,5,5,5,5,5]"
   ]
  },
  {
   "cell_type": "code",
   "execution_count": 55,
   "metadata": {},
   "outputs": [
    {
     "name": "stdout",
     "output_type": "stream",
     "text": [
      "6\n"
     ]
    }
   ],
   "source": [
    "quantas_aparece(a,5)"
   ]
  },
  {
   "cell_type": "code",
   "execution_count": null,
   "metadata": {},
   "outputs": [],
   "source": []
  }
 ],
 "metadata": {
  "kernelspec": {
   "display_name": "Python 3",
   "language": "python",
   "name": "python3"
  },
  "language_info": {
   "codemirror_mode": {
    "name": "ipython",
    "version": 3
   },
   "file_extension": ".py",
   "mimetype": "text/x-python",
   "name": "python",
   "nbconvert_exporter": "python",
   "pygments_lexer": "ipython3",
   "version": "3.7.0"
  }
 },
 "nbformat": 4,
 "nbformat_minor": 2
}
