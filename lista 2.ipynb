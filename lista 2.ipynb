{
 "cells": [
  {
   "cell_type": "markdown",
   "metadata": {},
   "source": [
    "### Faça uma função em python que:\n",
    "### (a) calcule a média entre quatro números (use a função de média de dois números).\n",
    "### (b) Joãozinho quer comprar o maior número de bombons possível com o dinheiro que tem. Faça uma função para calcular o número de bombons e o troco, dados o dinheiro e o preço do bombom."
   ]
  },
  {
   "cell_type": "code",
   "execution_count": 1,
   "metadata": {},
   "outputs": [],
   "source": [
    "def media_de_dois_numeros(a,b):\n",
    "    return (a + b) / 2\n",
    "\n",
    "def media_entre_quatro_numeros(a,b,c,d):\n",
    "    return (media_de_dois_numeros(a,b) + media_de_dois_numeros(c,d)) / 2"
   ]
  },
  {
   "cell_type": "code",
   "execution_count": 3,
   "metadata": {},
   "outputs": [
    {
     "data": {
      "text/plain": [
       "5.0"
      ]
     },
     "execution_count": 3,
     "metadata": {},
     "output_type": "execute_result"
    }
   ],
   "source": [
    "media_entre_quatro_numeros(2,4,6,8)"
   ]
  },
  {
   "cell_type": "markdown",
   "metadata": {},
   "source": [
    "2. Usando funções do módulo math:\n",
    "(a) calcule a hipotenusa de um triângulo retângulo dados os catetos.\n",
    "(b) calcule a distância entre dois pontos em um plano dadas suas coordenadas.\n",
    "(c) calcule o perímetro de um triângulo reto dados os catetos, use a função definida no item a.\n",
    "(d) calcule a soma do quadrado do seno com o quadrado do cosseno de um ângulo.\n",
    "Experimente com cada função no console fazendo pelo menos três exemplos com cada uma."
   ]
  },
  {
   "cell_type": "code",
   "execution_count": 6,
   "metadata": {},
   "outputs": [
    {
     "data": {
      "text/plain": [
       "5.0"
      ]
     },
     "execution_count": 6,
     "metadata": {},
     "output_type": "execute_result"
    }
   ],
   "source": [
    "import math\n",
    "\n",
    "def hipotenusa(a,b):\n",
    "    return math.sqrt(math.pow(a,2) + math.pow(b,2))\n",
    "\n",
    "hipotenusa(3,4)"
   ]
  },
  {
   "cell_type": "code",
   "execution_count": 19,
   "metadata": {},
   "outputs": [],
   "source": [
    "import math\n",
    "\n",
    "def distancia_entre_dois_pontos(coordendas1,coordenadas2):\n",
    "    x = math.pow(coordenadas2[0]-coordendas1[0],2)\n",
    "    y = math.pow(coordenadas2[1]-coordendas1[1],2)\n",
    "    return hipotenusa(x,y)\n",
    "    "
   ]
  },
  {
   "cell_type": "code",
   "execution_count": 20,
   "metadata": {},
   "outputs": [
    {
     "data": {
      "text/plain": [
       "1.4142135623730951"
      ]
     },
     "execution_count": 20,
     "metadata": {},
     "output_type": "execute_result"
    }
   ],
   "source": [
    "distancia_entre_dois_pontos((1,1),(2,2))"
   ]
  },
  {
   "cell_type": "markdown",
   "metadata": {},
   "source": [
    "3. Escreva a função de comprimento do círculo."
   ]
  },
  {
   "cell_type": "code",
   "execution_count": 21,
   "metadata": {},
   "outputs": [],
   "source": [
    "def comprimento_do_circulo(r):\n",
    "    return 2 * math.pi * r"
   ]
  },
  {
   "cell_type": "code",
   "execution_count": 22,
   "metadata": {},
   "outputs": [
    {
     "data": {
      "text/plain": [
       "6.283185307179586"
      ]
     },
     "execution_count": 22,
     "metadata": {},
     "output_type": "execute_result"
    }
   ],
   "source": [
    "comprimento_do_circulo(1)"
   ]
  },
  {
   "cell_type": "markdown",
   "metadata": {},
   "source": [
    "4. Um atleta olímpico corre em uma pista circular. Escreva uma função que, dados o raio da pista e a\n",
    "distância que ele percorreu, retorne o número de voltas (este número pode ser decimal, por exemplo, 2,4\n",
    "voltas).\n",
    "Use a função de comprimento do círculo definida na questão 3."
   ]
  },
  {
   "cell_type": "code",
   "execution_count": 26,
   "metadata": {},
   "outputs": [],
   "source": [
    "def comprimento_do_circulo(r):\n",
    "    return 2 * math.pi * r\n",
    "\n",
    "def numero_de_voltas(raio,distancia):\n",
    "    tamanho_da_pista = comprimento_do_circulo(raio)\n",
    "    return  distancia / tamanho_da_pista"
   ]
  },
  {
   "cell_type": "code",
   "execution_count": 27,
   "metadata": {},
   "outputs": [
    {
     "data": {
      "text/plain": [
       "1.5915494309189535"
      ]
     },
     "execution_count": 27,
     "metadata": {},
     "output_type": "execute_result"
    }
   ],
   "source": [
    "numero_de_voltas(1,10)"
   ]
  },
  {
   "cell_type": "markdown",
   "metadata": {},
   "source": [
    "5. Faça uma função que dados os parâmetros a, b e c, calcula o discriminante ∆ de um polinômio do\n",
    "segundo grau.\n",
    "Usando a função definida, faça uma função que calcule as raízes reais de uma equação do segundo grau,\n",
    "dados seus parâmetros a, b e c.\n",
    "Obs: Assuma que o usuário só vai passar valores que tornem o ∆ positivo, ou seja, desconsiderar raízes complexas."
   ]
  },
  {
   "cell_type": "code",
   "execution_count": 41,
   "metadata": {},
   "outputs": [],
   "source": [
    "import math\n",
    "\n",
    "def calcula_raiz(a,b,c):\n",
    "    x1 = (-b + math.sqrt(math.pow(b,2)-4*a*c))/2*a\n",
    "    x2 = (-b - math.sqrt(math.pow(b,2)-4*a*c))/2*a\n",
    "    return x1,x2"
   ]
  },
  {
   "cell_type": "code",
   "execution_count": 42,
   "metadata": {},
   "outputs": [
    {
     "data": {
      "text/plain": [
       "(-3.0, -3.0)"
      ]
     },
     "execution_count": 42,
     "metadata": {},
     "output_type": "execute_result"
    }
   ],
   "source": [
    "calcula_raiz(1,6,9)"
   ]
  },
  {
   "cell_type": "markdown",
   "metadata": {},
   "source": [
    "6. Escreva uma função que calcule a área de um setor circular, dados o raio e o ângulo. Use um argumento\n",
    "default para o ângulo, de modo que se nenhum ângulo for informado, a função retorne a área do círculo\n",
    "inteiro."
   ]
  },
  {
   "cell_type": "code",
   "execution_count": 44,
   "metadata": {},
   "outputs": [],
   "source": [
    "import math\n",
    "\n",
    "def area_circular(raio,angulo):\n",
    "    return math.pow(raio,2) * angulo\n"
   ]
  },
  {
   "cell_type": "code",
   "execution_count": 49,
   "metadata": {},
   "outputs": [
    {
     "data": {
      "text/plain": [
       "360.0"
      ]
     },
     "execution_count": 49,
     "metadata": {},
     "output_type": "execute_result"
    }
   ],
   "source": [
    "area_circular(2,90)"
   ]
  },
  {
   "cell_type": "markdown",
   "metadata": {},
   "source": [
    "7. Faça uma função que calcule a soma de uma progressão aritmética dados o valor inicial (A1), o valor\n",
    "final (An) e a razão (r).\n",
    "Decomponha o problema em duas funções:\n",
    "\n",
    "\n",
    "(a) uma para calcular o número de termos dados os valores inicial e final e a razão;\n",
    "An = A1 + (n − 1) ∗ r ⇒ n = ((An − A1) / r) + 1\n",
    "\n",
    "(b) outra para calcular a soma da PA dados os valores inicial, final e o número de termos.\n",
    "Sn = ((A1 + An) ∗ n) / 2"
   ]
  },
  {
   "cell_type": "code",
   "execution_count": 33,
   "metadata": {},
   "outputs": [
    {
     "data": {
      "text/plain": [
       "-1"
      ]
     },
     "execution_count": 33,
     "metadata": {},
     "output_type": "execute_result"
    }
   ],
   "source": [
    "a = 1\n",
    "-a"
   ]
  },
  {
   "cell_type": "code",
   "execution_count": null,
   "metadata": {},
   "outputs": [],
   "source": []
  },
  {
   "cell_type": "markdown",
   "metadata": {},
   "source": [
    "8. Questão OBI (Olimpíada Brasileira de Informática - 2012, Fase 2, Nível Júnior) - (Receita de Bolo)\n",
    "João deseja fazer bolos para seus amigos, usando uma receita que indica que devem ser usadas 2 xícaras\n",
    "de farinha de trigo, 3 ovos e 5 colheres de sopa de leite. Em casa ele tem A xícaras de farinha de trigo,\n",
    "B ovos e C colheres de sopa de leite. João não tem muita prática com a cozinha, e portanto ele só se\n",
    "arriscaria a fazer medidas exatas da receita de bolo (por exemplo, se ele tiver material suficiente para\n",
    "fazer mais do que 2 e menos do que 3 bolos, ele fará somente 2 bolos). Sabendo disto, ajude João\n",
    "escrevendo uma função que determine qual a quantidade máxima de bolos que ele consegue fazer.\n",
    "Entrada: Os parâmetros de entrada da função são três números inteiros A,B e C, indicando respectivamente o número de xícaras \n",
    "de farinha de trigo, o número de ovos e o número de colheres de sopa de leite que João tem em casa.\n",
    "Saáda: Sua função deve retornar a quantidade máxima de bolos que João consegue fazer.\n",
    "Exemplos\n",
    "Entrada : 4 6 10 ; Saída : 2\n",
    "Entrada : 4 6 9 ; Saída : 1"
   ]
  },
  {
   "cell_type": "code",
   "execution_count": null,
   "metadata": {},
   "outputs": [],
   "source": []
  }
 ],
 "metadata": {
  "kernelspec": {
   "display_name": "Python 3",
   "language": "python",
   "name": "python3"
  },
  "language_info": {
   "codemirror_mode": {
    "name": "ipython",
    "version": 3
   },
   "file_extension": ".py",
   "mimetype": "text/x-python",
   "name": "python",
   "nbconvert_exporter": "python",
   "pygments_lexer": "ipython3",
   "version": "3.7.0"
  }
 },
 "nbformat": 4,
 "nbformat_minor": 2
}
